{
 "cells": [
  {
   "cell_type": "code",
   "execution_count": 1,
   "metadata": {},
   "outputs": [
    {
     "name": "stdout",
     "output_type": "stream",
     "text": [
      "Selecione a operação:\n",
      "1. Adicionar\n",
      "2. Subtrair\n",
      "3. Multiplicar\n",
      "4. Dividir\n",
      "564.0 - 4.0 = 560.0\n",
      "Obrigado por usar a calculadora! Volte sempre.\n"
     ]
    }
   ],
   "source": [
    "# Este programa cria uma calculadora simples que pode realizar operações básicas\n",
    "# como adição, subtração, multiplicação ou divisão, dependendo da entrada do usuário.\n",
    "\n",
    "# Função para adicionar dois números\n",
    "def add(x, y):\n",
    "    return x + y\n",
    "\n",
    "# Função para subtrair dois números\n",
    "def subtract(x, y):\n",
    "    return x - y\n",
    "\n",
    "# Função para multiplicar dois números\n",
    "def multiply(x, y):\n",
    "    return x * y\n",
    "\n",
    "# Função para dividir dois números\n",
    "def divide(x, y):\n",
    "    return x / y\n",
    "\n",
    "print(\"Selecione a operação:\")\n",
    "print(\"1. Adicionar\")\n",
    "print(\"2. Subtrair\")\n",
    "print(\"3. Multiplicar\")\n",
    "print(\"4. Dividir\")\n",
    "\n",
    "while True:\n",
    "    # Solicita a entrada do usuário\n",
    "    choice = input(\"Digite a opção (1/2/3/4): \")\n",
    "\n",
    "    # Verifica se a escolha é uma das quatro opções\n",
    "    if choice in ('1', '2', '3', '4'):\n",
    "        try:\n",
    "            num1 = float(input(\"Digite o primeiro número: \"))\n",
    "            num2 = float(input(\"Digite o segundo número: \"))\n",
    "        except ValueError:\n",
    "            print(\"Entrada inválida. Por favor, insira um número válido.\")\n",
    "            continue\n",
    "\n",
    "        if choice == '1':\n",
    "            print(f\"{num1} + {num2} = {add(num1, num2)}\")\n",
    "        elif choice == '2':\n",
    "            print(f\"{num1} - {num2} = {subtract(num1, num2)}\")\n",
    "        elif choice == '3':\n",
    "            print(f\"{num1} * {num2} = {multiply(num1, num2)}\")\n",
    "        elif choice == '4':\n",
    "            print(f\"{num1} / {num2} = {divide(num1, num2)}\")\n",
    "\n",
    "        # Verifica se o usuário deseja fazer outra operação\n",
    "        next_calculation = input(\"Deseja fazer outra operação? (sim/não): \")\n",
    "        if next_calculation.lower() == \"não\":\n",
    "            break\n",
    "    else:\n",
    "        print(\"Entrada inválida\")\n",
    "\n",
    "print(\"Obrigado por usar a calculadora! Volte sempre.\")\n"
   ]
  }
 ],
 "metadata": {
  "kernelspec": {
   "display_name": "Python 3",
   "language": "python",
   "name": "python3"
  },
  "language_info": {
   "codemirror_mode": {
    "name": "ipython",
    "version": 3
   },
   "file_extension": ".py",
   "mimetype": "text/x-python",
   "name": "python",
   "nbconvert_exporter": "python",
   "pygments_lexer": "ipython3",
   "version": "undefined.undefined.undefined"
  }
 },
 "nbformat": 4,
 "nbformat_minor": 2
}
