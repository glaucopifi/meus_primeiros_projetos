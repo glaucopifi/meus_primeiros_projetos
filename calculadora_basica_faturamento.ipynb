{
 "cells": [
  {
   "cell_type": "markdown",
   "metadata": {},
   "source": [
    "# Faturamento da Venda do Zé"
   ]
  },
  {
   "cell_type": "code",
   "execution_count": 10,
   "metadata": {},
   "outputs": [
    {
     "name": "stdout",
     "output_type": "stream",
     "text": [
      "O valor total das vendas foi 11147.5 Reais. O valor total do custo da loja foi 7000 Reais. O faturamento da loja foi 4147.5 Reais. A margem de Lucro foi 2.6877637130801686 \n"
     ]
    }
   ],
   "source": [
    "valor_unit_coca = 1.50\n",
    "valor_unit_pepsi = 1.50\n",
    "valor_unit_fanta = 1.25\n",
    "valor_unit_tubaina = 1.00\n",
    "valor_unit_torresmo = 3.00\n",
    "valor_unit_pinga = .50\n",
    "valor_unit_pipa = 4.50\n",
    "valor_unit_bilhar = .25\n",
    "valor_unit_ovo_colorido = 2.00\n",
    "qtd_coca = int(input(\"Quantas cocas? \"))\n",
    "qtd_pepsi = int(input(\"Quantas pepsi? \"))\n",
    "qtd_fanta = int(input('Quantas fantas? '))\n",
    "qtd_tubaina = int(input('Quantas tubainas? '))\n",
    "qtd_torresmo = int(input('Quantos torresmos? '))\n",
    "qtd_pinga = int(input('Quantas pingas'))\n",
    "qtd_pipa = int(input('Quantas pipas? '))\n",
    "qtd_bilhar = int(input('Quantas fichas de bilhar? '))\n",
    "qtd_ovo_colorido = int(input('Quantos ovos coloridos? '))\n",
    "valor_total_vendas = ((qtd_torresmo * valor_unit_torresmo) + (qtd_tubaina * valor_unit_tubaina) + (qtd_bilhar * valor_unit_bilhar) + (qtd_coca * valor_unit_coca) + (qtd_fanta * valor_unit_fanta) + (qtd_ovo_colorido * valor_unit_ovo_colorido) + (qtd_pinga * valor_unit_pinga) + (qtd_pipa * valor_unit_pipa))\n",
    "custo = int(input('Quanto foi gasto no mês? '))\n",
    "faturamento = (valor_total_vendas - custo)\n",
    "margem = (valor_total_vendas / faturamento)\n",
    "\n",
    "print('O valor total das vendas foi {} Reais. O valor total do custo da loja foi {} Reais. O faturamento da loja foi {} Reais. A margem de Lucro foi {} ' .format(valor_total_vendas, custo, faturamento, margem) )\n",
    "\n"
   ]
  }
 ],
 "metadata": {
  "kernelspec": {
   "display_name": "Python 3",
   "language": "python",
   "name": "python3"
  },
  "language_info": {
   "codemirror_mode": {
    "name": "ipython",
    "version": 3
   },
   "file_extension": ".py",
   "mimetype": "text/x-python",
   "name": "python",
   "nbconvert_exporter": "python",
   "pygments_lexer": "ipython3",
   "version": "3.12.2"
  }
 },
 "nbformat": 4,
 "nbformat_minor": 2
}
